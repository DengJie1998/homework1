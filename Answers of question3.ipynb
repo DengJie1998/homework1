{
 "cells": [
  {
   "cell_type": "markdown",
   "metadata": {},
   "source": [
    "# First question  answer##"
   ]
  },
  {
   "cell_type": "code",
   "execution_count": null,
   "metadata": {},
   "outputs": [],
   "source": [
    "import xml.dom.minidom as xm\n",
    "import re\n",
    "dom = xm.parse('blocklist.xml') #get file object\n",
    "root = dom.documentElement      #get element object\n",
    "bb = root.getElementsByTagName('emItem')  #get sub label\n",
    "blockID=[]\n",
    "for i in bb:\n",
    "    blockID.append(i.getAttribute('blockID'))\n",
    "\n",
    "for j in blockID:\n",
    "    b=re.match('^i.*\\d$|^g.*\\d$',j)  #regular expression of requirement\n",
    "    if b:\n",
    "        n = blockID.index(j)  #get position\n",
    "        print(bb[n].toxml().split('\\n')[0])"
   ]
  },
  {
   "cell_type": "markdown",
   "metadata": {},
   "source": [
    "# Second question answer##"
   ]
  },
  {
   "cell_type": "code",
   "execution_count": null,
   "metadata": {},
   "outputs": [],
   "source": [
    "import xml.dom.minidom as xm\n",
    "import re\n",
    "dom = xm.parse('blocklist.xml')  #get file object\n",
    "root = dom.documentElement       #get element object\n",
    "bb = root.getElementsByTagName('emItem') #get sub label\n",
    "ID=[]\n",
    "for i in bb:\n",
    "    ID.append(i.getAttribute('id'))\n",
    "\n",
    "for j in ID:\n",
    "    b=re.match(r'^[0-9a-zA-Z_]{0,19}@[0-9a-zA-Z]{1,13}\\.(gov|edu|int|mil|org|at|au|ca|de|dk|es|fr|uk|us|ch|com|cn|net){1,3}$',j)  # regular expression of requirement\n",
    "    if b:\n",
    "        n = ID.index(j) #get position\n",
    "        print(bb[n].toxml().split('\\n')[0])"
   ]
  }
 ],
 "metadata": {
  "kernelspec": {
   "display_name": "Python 3",
   "language": "python",
   "name": "python3"
  },
  "language_info": {
   "codemirror_mode": {
    "name": "ipython",
    "version": 3
   },
   "file_extension": ".py",
   "mimetype": "text/x-python",
   "name": "python",
   "nbconvert_exporter": "python",
   "pygments_lexer": "ipython3",
   "version": "3.7.6"
  }
 },
 "nbformat": 4,
 "nbformat_minor": 4
}
